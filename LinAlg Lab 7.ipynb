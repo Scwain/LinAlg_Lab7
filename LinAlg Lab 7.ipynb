{
 "cells": [
  {
   "cell_type": "markdown",
   "metadata": {},
   "source": [
    "# Linear Algebra for CpE\n",
    "## Laboratory 7 : Matrix Operations\n",
    "\n",
    "Coded and submitted by: <br>\n",
    "Panelo, Bryan V. <br>\n",
    "58001"
   ]
  },
  {
   "cell_type": "markdown",
   "metadata": {},
   "source": [
    "## Activity\n",
    "##### Six Matrix Multiplication Properties\n",
    "#COMMUTATIVE PROPERTY OF MULTIPLICATION DOES NOT HOLD <br>\n",
    "1.) $AB \\neq BA$ <br>\n",
    "#ASSOCIATIVE PROPERTY OF MULTIPLICATION <br>\n",
    "2.) $(AB)C = A(BC)$<br>\n",
    "#DISTRIBUTIVE PROPERTY<br>\n",
    "3.) $A(B + C) = AB + AC$<br>\n",
    "&nbsp;&nbsp;&nbsp; $(B + C) A = BA + CA$<br>\n",
    "#MULTIPLICATIVE IDENTITY OF PROPERTY<br>\n",
    "4.) $IA = A and AI = A$ <br>\n",
    "#MULTIPLICATIVE PROPERTY OF ZERO<br>\n",
    "5.) $0A = 0 and A0= 0$<br>\n",
    "#DIMENSION PROPERTY<br>\n",
    "6.) $Product$ $of$ $an$  $m$ $x$ $n$  $matrix$  $and$ $an$ $n x k$ $is$ $an$ $m$ x $k$ $matrix$\n"
   ]
  },
  {
   "cell_type": "markdown",
   "metadata": {},
   "source": [
    "### Task 1"
   ]
  },
  {
   "cell_type": "markdown",
   "metadata": {},
   "source": [
    "Prove and implement the remaining 6 matrix multiplication properties. You may create your own matrices in which their shapes should not be lower than $(3,3)$.\n",
    "In your methodology, create individual flowcharts for each property and discuss the property you would then present your proofs or validity of your implementation in the results section by comparing your result to present functions from NumPy."
   ]
  },
  {
   "cell_type": "code",
   "execution_count": 40,
   "metadata": {},
   "outputs": [],
   "source": [
    "A = np.array([\n",
    "    [1,2,3],\n",
    "    [4,5,6],\n",
    "    [7,8,9]\n",
    "])\n",
    "B = np.array([\n",
    "    [9,8,7],\n",
    "    [6,5,4],\n",
    "    [3,2,1]\n",
    "])\n",
    "C = np.array([\n",
    "    [1,2,1],\n",
    "    [2,3,2],\n",
    "    [4,2,3]\n",
    "])\n",
    "I = np.eye(3)\n",
    "zero = np.zeros((3,3))\n",
    "\n",
    "X = np.array([\n",
    "    [2,3,4,],\n",
    "    [3,2,1,],\n",
    "    [2,3,2,]\n",
    "])\n",
    "Y = np.array([\n",
    "    [2,1,2,],\n",
    "    [2,1,1,],\n",
    "    [1,1,1,]\n",
    "])"
   ]
  },
  {
   "cell_type": "code",
   "execution_count": 33,
   "metadata": {},
   "outputs": [
    {
     "name": "stdout",
     "output_type": "stream",
     "text": [
      "A_B is:\n",
      " [[ 30  24  18]\n",
      " [ 84  69  54]\n",
      " [138 114  90]]\n",
      "B_A is:\n",
      " [[ 90 114 138]\n",
      " [ 54  69  84]\n",
      " [ 18  24  30]]\n",
      "The two array are equal: False\n"
     ]
    }
   ],
   "source": [
    "#1.)\n",
    "\n",
    "A_B = A@B \n",
    "B_A = B@A\n",
    "print(\"A_B is:\\n\", A_B)\n",
    "print(\"B_A is:\\n\", B_A)\n",
    "\n",
    "#to prove that they're not equal\n",
    "pr = np.array_equal(A_B,B_A)\n",
    "print(\"The two array are equal:\", pr)    "
   ]
  },
  {
   "cell_type": "code",
   "execution_count": 34,
   "metadata": {},
   "outputs": [
    {
     "name": "stdout",
     "output_type": "stream",
     "text": [
      "E1 is:\n",
      " [[150 168 132]\n",
      " [438 483 384]\n",
      " [726 798 636]]\n",
      "E2 is:\n",
      " [[150 168 132]\n",
      " [438 483 384]\n",
      " [726 798 636]]\n",
      "The two array are equal: True\n"
     ]
    }
   ],
   "source": [
    "#2.) \n",
    "E1 = (A@B)@C\n",
    "E2 = A@(B@C)\n",
    "print(\"E1 is:\\n\", E1)\n",
    "print(\"E2 is:\\n\", E2)\n",
    "\n",
    "#to prove that the given equation is equal \n",
    "pr = np.array_equal(E1,E2)\n",
    "print(\"The two array are equal:\", pr)"
   ]
  },
  {
   "cell_type": "code",
   "execution_count": 44,
   "metadata": {},
   "outputs": [
    {
     "name": "stdout",
     "output_type": "stream",
     "text": [
      "E1 is:\n",
      " [[ 47  38  32]\n",
      " [122 104  86]\n",
      " [197 170 140]]\n",
      "E_1 is:\n",
      " [[ 47  38  32]\n",
      " [122 104  86]\n",
      " [197 170 140]]\n",
      "The two array are equal: True\n",
      "\n",
      "\n",
      "E2 is:\n",
      " [[106 134 162]\n",
      " [ 82 104 126]\n",
      " [ 51  66  81]]\n",
      "E_2 is:\n",
      " [[106 134 162]\n",
      " [ 82 104 126]\n",
      " [ 51  66  81]]\n",
      "The two array are equal: True\n"
     ]
    }
   ],
   "source": [
    "#3.)\n",
    "\n",
    "E1  = A@(B+C)\n",
    "E_1 = (A@B)+(A@C)\n",
    "print(\"E1 is:\\n\", E1)\n",
    "print(\"E_1 is:\\n\", E_1)\n",
    "#to prove that the given equation is equal \n",
    "pr = np.array_equal(E1,E_1)\n",
    "print(\"The two array are equal:\", pr)\n",
    "print(\"\")\n",
    "print(\"\")\n",
    "E2  = (B+C)@A\n",
    "E_2 = (B@A)+(C@A)\n",
    "print(\"E2 is:\\n\", E2)\n",
    "print(\"E_2 is:\\n\", E_2)\n",
    "pr2 = np.array_equal(E2,E_2)\n",
    "print(\"The two array are equal:\", pr2)"
   ]
  },
  {
   "cell_type": "code",
   "execution_count": 35,
   "metadata": {},
   "outputs": [
    {
     "name": "stdout",
     "output_type": "stream",
     "text": [
      "I1 is:\n",
      " [[1. 2. 3.]\n",
      " [4. 5. 6.]\n",
      " [7. 8. 9.]]\n",
      "I_1 is:\n",
      " [[1 2 3]\n",
      " [4 5 6]\n",
      " [7 8 9]]\n",
      "The two array are equal: True\n",
      "\n",
      "\n",
      "I2 is:\n",
      " [[1. 2. 3.]\n",
      " [4. 5. 6.]\n",
      " [7. 8. 9.]]\n",
      "I_2 is:\n",
      " [[1 2 3]\n",
      " [4 5 6]\n",
      " [7 8 9]]\n",
      "The two array are equal: True\n"
     ]
    }
   ],
   "source": [
    "#4.)\n",
    "\n",
    "I1 = I@A\n",
    "I_1 = A\n",
    "print(\"I1 is:\\n\", I1)\n",
    "print(\"I_1 is:\\n\", I_1)\n",
    "pr = np.array_equal(I1,I_1)\n",
    "print(\"The two array are equal:\", pr)\n",
    "print(\"\")\n",
    "print(\"\")\n",
    "\n",
    "I2 = A@I\n",
    "I_2 = A\n",
    "print(\"I2 is:\\n\", I2)\n",
    "print(\"I_2 is:\\n\", I_2)\n",
    "pr = np.array_equal(I2,I_2)\n",
    "print(\"The two array are equal:\", pr)"
   ]
  },
  {
   "cell_type": "code",
   "execution_count": 36,
   "metadata": {},
   "outputs": [
    {
     "name": "stdout",
     "output_type": "stream",
     "text": [
      "Z1 is:\n",
      " [[0. 0. 0.]\n",
      " [0. 0. 0.]\n",
      " [0. 0. 0.]]\n",
      "Z1 is:\n",
      " 0\n",
      "\n",
      "\n",
      "Z1 is:\n",
      " [[0. 0. 0.]\n",
      " [0. 0. 0.]\n",
      " [0. 0. 0.]]\n",
      "Z1 is:\n",
      " 0\n"
     ]
    }
   ],
   "source": [
    "#5.) \n",
    "\n",
    "Z1 = zero@A\n",
    "Z_1 = 0\n",
    "print(\"Z1 is:\\n\", Z1)\n",
    "print(\"Z1 is:\\n\", Z_1)\n",
    "pr = np.array_equal(Z1,Z_1)\n",
    "print(\"\")\n",
    "print(\"\")\n",
    "\n",
    "Z2 = A@zero\n",
    "Z_2 = 0\n",
    "print(\"Z1 is:\\n\", Z2)\n",
    "print(\"Z1 is:\\n\", Z_2)\n",
    "pr = np.array_equal(Z2,Z_2)"
   ]
  },
  {
   "cell_type": "code",
   "execution_count": 58,
   "metadata": {},
   "outputs": [
    {
     "name": "stdout",
     "output_type": "stream",
     "text": [
      "E1 is:\n",
      " [[529 668 807]\n",
      " [406 512 618]\n",
      " [439 554 669]]\n",
      "E2 is:\n",
      " [[42 51 60]\n",
      " [18 24 30]\n",
      " [28 35 42]]\n",
      "E3 is:\n",
      " [[56838 71256 85674]\n",
      " [43572 54624 65676]\n",
      " [47142 59100 71058]]\n",
      "[[56838 71256 85674]\n",
      " [43572 54624 65676]\n",
      " [47142 59100 71058]]\n",
      "(3, 3)\n",
      "(3, 3)\n",
      "(3, 3)\n",
      "True\n"
     ]
    }
   ],
   "source": [
    "#6.)\n",
    "\n",
    "E1 = (X@Y)@(Y@A) \n",
    "E2 = (X@A)\n",
    "print(\"E1 is:\\n\", E1)\n",
    "print(\"E2 is:\\n\", E2)\n",
    "print(\"E3 is:\\n\", E3)\n",
    "E3 = E1@E2\n",
    "print(E3)\n",
    "print(E1.shape)\n",
    "print(E2.shape)\n",
    "print(E3.shape)\n",
    "pro = np.array_equal(E1@E2,E3)\n",
    "print(pro)"
   ]
  }
 ],
 "metadata": {
  "kernelspec": {
   "display_name": "Python 3",
   "language": "python",
   "name": "python3"
  },
  "language_info": {
   "codemirror_mode": {
    "name": "ipython",
    "version": 3
   },
   "file_extension": ".py",
   "mimetype": "text/x-python",
   "name": "python",
   "nbconvert_exporter": "python",
   "pygments_lexer": "ipython3",
   "version": "3.8.5"
  }
 },
 "nbformat": 4,
 "nbformat_minor": 4
}
